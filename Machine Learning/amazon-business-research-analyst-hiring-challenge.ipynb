{
 "cells": [
  {
   "cell_type": "markdown",
   "id": "995d42df",
   "metadata": {},
   "source": [
    "#### Import Packages"
   ]
  },
  {
   "cell_type": "code",
   "execution_count": 1,
   "id": "083c23c8",
   "metadata": {},
   "outputs": [
    {
     "data": {
      "text/html": [
       "        <script type=\"text/javascript\">\n",
       "        window.PlotlyConfig = {MathJaxConfig: 'local'};\n",
       "        if (window.MathJax && window.MathJax.Hub && window.MathJax.Hub.Config) {window.MathJax.Hub.Config({SVG: {font: \"STIX-Web\"}});}\n",
       "        if (typeof require !== 'undefined') {\n",
       "        require.undef(\"plotly\");\n",
       "        requirejs.config({\n",
       "            paths: {\n",
       "                'plotly': ['https://cdn.plot.ly/plotly-2.14.0.min']\n",
       "            }\n",
       "        });\n",
       "        require(['plotly'], function(Plotly) {\n",
       "            window._Plotly = Plotly;\n",
       "        });\n",
       "        }\n",
       "        </script>\n",
       "        "
      ]
     },
     "metadata": {},
     "output_type": "display_data"
    }
   ],
   "source": [
    "import pandas as pd\n",
    "import numpy as np\n",
    "import glob\n",
    "pd.set_option(\"display.max_columns\",None)\n",
    "import seaborn as sns\n",
    "import matplotlib.pyplot as plt\n",
    "%matplotlib inline\n",
    "\n",
    "\n",
    "import plotly.offline as py\n",
    "py.init_notebook_mode(connected=True)\n",
    "import plotly.graph_objs as go\n",
    "import plotly.tools as tls"
   ]
  },
  {
   "cell_type": "code",
   "execution_count": 2,
   "id": "0fdf8bfd",
   "metadata": {},
   "outputs": [],
   "source": [
    "train_data = pd.read_excel(\"train.xlsx\")\n",
    "test_data = pd.read_excel(\"test.xlsx\")"
   ]
  },
  {
   "cell_type": "code",
   "execution_count": 3,
   "id": "fe03b060",
   "metadata": {},
   "outputs": [],
   "source": [
    "train_data.drop([\"Unnamed: 0\"],axis=1,inplace=True)\n",
    "test_data.drop([\"Unnamed: 0\"],axis=1,inplace=True)"
   ]
  },
  {
   "cell_type": "markdown",
   "id": "9cbbb9dd",
   "metadata": {},
   "source": [
    "#### Train Data"
   ]
  },
  {
   "cell_type": "code",
   "execution_count": 2,
   "id": "d1135bdf",
   "metadata": {},
   "outputs": [],
   "source": [
    "train_data = pd.DataFrame()\n",
    "for file in glob.glob(\"dataset\\\\train\\\\*.txt\"):\n",
    "    file1 = pd.read_fwf(file,header=None)\n",
    "    file1 = np.transpose(file1)\n",
    "    file1.columns=file1.iloc[0]\n",
    "    file1 = file1.drop(index=(0))\n",
    "    file1=file1[[\"ID\", \"Delivery_person_ID\", \"Delivery_person_Age\",\n",
    "       \"Delivery_person_Ratings\", \"Restaurant_latitude\",\n",
    "       \"Restaurant_longitude\", \"Delivery_location_latitude\",\n",
    "       \"Delivery_location_longitude\", \"Order_Date\", \"Time_Orderd\",\n",
    "       \"Time_Order_picked\", \"Weather conditions\", \"Road_traffic_density\",\n",
    "       \"Vehicle_condition\", \"Type_of_order\", \"Type_of_vehicle\",\n",
    "       \"multiple_deliveries\", \"Festival\", \"City\", \"Time_taken (min)\"]]\n",
    "    train_data = train_data.append(file1)"
   ]
  },
  {
   "cell_type": "markdown",
   "id": "7214eafc",
   "metadata": {},
   "source": [
    "#### Test Data"
   ]
  },
  {
   "cell_type": "code",
   "execution_count": 3,
   "id": "c25c70e6",
   "metadata": {},
   "outputs": [],
   "source": [
    "test_data = pd.DataFrame()\n",
    "for file in glob.glob(\"dataset\\\\test\\\\*.txt\"):\n",
    "    file1 = pd.read_fwf(file,header=None)\n",
    "    file1 = np.transpose(file1)\n",
    "    file1.columns=file1.iloc[0]\n",
    "    file1 = file1.drop(index=(0))\n",
    "    file1=file1[[\"ID\", \"Delivery_person_ID\", \"Delivery_person_Age\",\n",
    "       \"Delivery_person_Ratings\", \"Restaurant_latitude\",\n",
    "       \"Restaurant_longitude\", \"Delivery_location_latitude\",\n",
    "       \"Delivery_location_longitude\", \"Order_Date\", \"Time_Orderd\",\n",
    "       \"Time_Order_picked\", \"Weather conditions\", \"Road_traffic_density\",\n",
    "       \"Vehicle_condition\", \"Type_of_order\", \"Type_of_vehicle\",\n",
    "       \"multiple_deliveries\", \"Festival\", \"City\"]]\n",
    "    test_data = test_data.append(file1)"
   ]
  },
  {
   "cell_type": "markdown",
   "id": "c1d18e7d",
   "metadata": {},
   "source": [
    "#### Data Preprocessing"
   ]
  },
  {
   "cell_type": "code",
   "execution_count": 4,
   "id": "8ca95049",
   "metadata": {
    "scrolled": true
   },
   "outputs": [
    {
     "name": "stdout",
     "output_type": "stream",
     "text": [
      "<class 'pandas.core.frame.DataFrame'>\n",
      "RangeIndex: 45593 entries, 0 to 45592\n",
      "Data columns (total 20 columns):\n",
      " #   Column                       Non-Null Count  Dtype  \n",
      "---  ------                       --------------  -----  \n",
      " 0   ID                           45593 non-null  object \n",
      " 1   Delivery_person_ID           45593 non-null  object \n",
      " 2   Delivery_person_Age          43739 non-null  float64\n",
      " 3   Delivery_person_Ratings      43685 non-null  float64\n",
      " 4   Restaurant_latitude          45593 non-null  float64\n",
      " 5   Restaurant_longitude         45593 non-null  float64\n",
      " 6   Delivery_location_latitude   45593 non-null  float64\n",
      " 7   Delivery_location_longitude  45593 non-null  float64\n",
      " 8   Order_Date                   45593 non-null  object \n",
      " 9   Time_Orderd                  43862 non-null  object \n",
      " 10  Time_Order_picked            45593 non-null  object \n",
      " 11  Weather conditions           44977 non-null  object \n",
      " 12  Road_traffic_density         44992 non-null  object \n",
      " 13  Vehicle_condition            45593 non-null  int64  \n",
      " 14  Type_of_order                45593 non-null  object \n",
      " 15  Type_of_vehicle              45593 non-null  object \n",
      " 16  multiple_deliveries          44600 non-null  float64\n",
      " 17  Festival                     45365 non-null  object \n",
      " 18  City                         44393 non-null  object \n",
      " 19  Time_taken (min)             45593 non-null  float64\n",
      "dtypes: float64(8), int64(1), object(11)\n",
      "memory usage: 7.0+ MB\n"
     ]
    }
   ],
   "source": [
    "train_data.info()"
   ]
  },
  {
   "cell_type": "code",
   "execution_count": 5,
   "id": "2835c0f9",
   "metadata": {},
   "outputs": [],
   "source": [
    "train_data['City'] = train_data['City'].fillna(train_data['City'].mode()[0])\n",
    "train_data['Weather conditions'] = train_data['Weather conditions'].fillna(train_data['Weather conditions'].mode()[0])"
   ]
  },
  {
   "cell_type": "code",
   "execution_count": 6,
   "id": "3231bcab",
   "metadata": {},
   "outputs": [],
   "source": [
    "def NanValue(train_data,listdata, value, valtype):\n",
    "    listdelvper = listdata.copy()\n",
    "    listdelvper.append(value)\n",
    "    train_data2=train_data[listdelvper]\n",
    "    if valtype == \"mean\":\n",
    "        train_data2=train_data2.dropna().groupby(listdata).mean().reset_index()\n",
    "    else:\n",
    "        train_data2[\"count\"]=1\n",
    "        train_data2=train_data2.dropna().groupby(listdelvper).count().reset_index()\n",
    "        train_data2.sort_values(by=[\"count\"],ascending=False,inplace=True)\n",
    "        train_data2.drop([\"count\"],axis=1,inplace=True)\n",
    "        train_data2.drop_duplicates(subset=listdata,keep='first',inplace=True)\n",
    "    train_data2.rename({value:value+\"notna\"},axis=1,inplace=True)\n",
    "    train_data=pd.merge(train_data,train_data2,how=\"left\",on=listdata)\n",
    "    train_data[value]=train_data[value].fillna(train_data[value+\"notna\"])\n",
    "    train_data.drop([value+\"notna\"],axis=1,inplace=True)\n",
    "    return train_data"
   ]
  },
  {
   "cell_type": "code",
   "execution_count": 7,
   "id": "bf660b6a",
   "metadata": {
    "scrolled": true
   },
   "outputs": [],
   "source": [
    "train_data=NanValue(train_data,[\"Delivery_person_ID\"],\"Delivery_person_Age\",'mean')\n",
    "train_data=NanValue(train_data,[\"Delivery_person_ID\"],\"Delivery_person_Ratings\",'mean')\n",
    "\n",
    "train_data['Delivery_person_Age'].fillna(value=train_data['Delivery_person_Age'].mean(), inplace=True)\n",
    "train_data['Delivery_person_Ratings'].fillna(value=train_data['Delivery_person_Ratings'].mean(), inplace=True)"
   ]
  },
  {
   "cell_type": "code",
   "execution_count": 8,
   "id": "40921ccd",
   "metadata": {},
   "outputs": [],
   "source": [
    "import datetime\n",
    "from datetime import datetime, timedelta"
   ]
  },
  {
   "cell_type": "code",
   "execution_count": 9,
   "id": "8ab5c5d5",
   "metadata": {
    "scrolled": true
   },
   "outputs": [],
   "source": [
    "train_data[\"Order_Date\"] = train_data[\"Order_Date\"].apply(lambda x: datetime.strptime(x,\"%d-%m-%Y\").strftime(\"%Y-%m-%d\"))\n",
    "train_data[\"Order_Date\"]=pd.to_datetime(train_data[\"Order_Date\"], format =\"%Y-%m-%d\",errors =\"coerce\")"
   ]
  },
  {
   "cell_type": "code",
   "execution_count": 10,
   "id": "d021cf1e",
   "metadata": {},
   "outputs": [],
   "source": [
    "train_data[\"Time_Order_picked\"] = np.where(train_data[\"Time_Order_picked\"].str.contains(':60'),\n",
    "                                           pd.to_datetime(train_data[\"Time_Order_picked\"].str.replace(':60',':00'), format =\"%H:%M\",errors =\"coerce\")+timedelta(hours=1),\n",
    "                                           np.where(train_data[\"Time_Order_picked\"].str.contains('24:'),\n",
    "                                                    pd.to_datetime(train_data[\"Time_Order_picked\"].str.replace('24:','00:'), format =\"%H:%M\",errors =\"coerce\"),\n",
    "                                                    pd.to_datetime(train_data[\"Time_Order_picked\"], format =\"%H:%M\",errors =\"coerce\")))"
   ]
  },
  {
   "cell_type": "code",
   "execution_count": 11,
   "id": "ffaeec47",
   "metadata": {},
   "outputs": [],
   "source": [
    "train_data[\"Time_Orderd\"] = np.where(train_data[\"Time_Orderd\"].str.contains(':60'),\n",
    "                                           pd.to_datetime(train_data[\"Time_Orderd\"].str.replace(':60',':00'), format =\"%H:%M\",errors =\"coerce\")+timedelta(hours=1),\n",
    "                                           np.where(train_data[\"Time_Orderd\"].str.contains('24:'),\n",
    "                                                    pd.to_datetime(train_data[\"Time_Orderd\"].str.replace('24:','00:'), format =\"%H:%M\",errors =\"coerce\"),\n",
    "                                                    pd.to_datetime(train_data[\"Time_Orderd\"], format =\"%H:%M\",errors =\"coerce\")))"
   ]
  },
  {
   "cell_type": "code",
   "execution_count": 12,
   "id": "abc37542",
   "metadata": {},
   "outputs": [],
   "source": [
    "train_data[\"timediff\"]=train_data[\"Time_Order_picked\"]-train_data[\"Time_Orderd\"]"
   ]
  },
  {
   "cell_type": "code",
   "execution_count": 13,
   "id": "b1ac0155",
   "metadata": {},
   "outputs": [
    {
     "name": "stderr",
     "output_type": "stream",
     "text": [
      "C:\\Users\\alish\\AppData\\Local\\Temp\\ipykernel_132\\1843462781.py:8: SettingWithCopyWarning:\n",
      "\n",
      "\n",
      "A value is trying to be set on a copy of a slice from a DataFrame.\n",
      "Try using .loc[row_indexer,col_indexer] = value instead\n",
      "\n",
      "See the caveats in the documentation: https://pandas.pydata.org/pandas-docs/stable/user_guide/indexing.html#returning-a-view-versus-a-copy\n",
      "\n"
     ]
    }
   ],
   "source": [
    "train_data=NanValue(train_data,[\"Road_traffic_density\",\"Weather conditions\",\"City\"],\"timediff\",\"mode\")"
   ]
  },
  {
   "cell_type": "code",
   "execution_count": 14,
   "id": "89c0fcbf",
   "metadata": {},
   "outputs": [],
   "source": [
    "train_data['timediff'] = train_data['timediff'].fillna(train_data['timediff'].mode()[0])"
   ]
  },
  {
   "cell_type": "code",
   "execution_count": 15,
   "id": "d65b599b",
   "metadata": {},
   "outputs": [],
   "source": [
    "train_data[\"Time_Orderd\"]=train_data[\"Time_Orderd\"].fillna(train_data[\"Time_Order_picked\"]-train_data['timediff'])"
   ]
  },
  {
   "cell_type": "code",
   "execution_count": 16,
   "id": "1372c656",
   "metadata": {
    "scrolled": true
   },
   "outputs": [
    {
     "name": "stderr",
     "output_type": "stream",
     "text": [
      "C:\\Users\\alish\\AppData\\Local\\Temp\\ipykernel_132\\1843462781.py:8: SettingWithCopyWarning:\n",
      "\n",
      "\n",
      "A value is trying to be set on a copy of a slice from a DataFrame.\n",
      "Try using .loc[row_indexer,col_indexer] = value instead\n",
      "\n",
      "See the caveats in the documentation: https://pandas.pydata.org/pandas-docs/stable/user_guide/indexing.html#returning-a-view-versus-a-copy\n",
      "\n"
     ]
    }
   ],
   "source": [
    "train_data=NanValue(train_data,[\"Time_taken (min)\",\"City\"],\"Road_traffic_density\",\"mode\")\n",
    "train_data=NanValue(train_data,[\"Road_traffic_density\",\"City\",\"Order_Date\"],\"Festival\",\"mode\")\n",
    "train_data=NanValue(train_data,[\"Order_Date\",\"Time_Order_picked\"],\"multiple_deliveries\",\"mode\")"
   ]
  },
  {
   "cell_type": "code",
   "execution_count": 17,
   "id": "291a3d43",
   "metadata": {},
   "outputs": [
    {
     "name": "stderr",
     "output_type": "stream",
     "text": [
      "C:\\Users\\alish\\AppData\\Local\\Temp\\ipykernel_132\\1843462781.py:8: SettingWithCopyWarning:\n",
      "\n",
      "\n",
      "A value is trying to be set on a copy of a slice from a DataFrame.\n",
      "Try using .loc[row_indexer,col_indexer] = value instead\n",
      "\n",
      "See the caveats in the documentation: https://pandas.pydata.org/pandas-docs/stable/user_guide/indexing.html#returning-a-view-versus-a-copy\n",
      "\n"
     ]
    }
   ],
   "source": [
    "train_data=NanValue(train_data,[\"Delivery_person_ID\"],\"multiple_deliveries\",\"mode\")\n",
    "train_data['multiple_deliveries'] = train_data['multiple_deliveries'].fillna(train_data['multiple_deliveries'].mode()[0])"
   ]
  },
  {
   "cell_type": "code",
   "execution_count": 18,
   "id": "779c8c08",
   "metadata": {},
   "outputs": [],
   "source": [
    "train_data[\"Order_Year\"]=train_data[\"Order_Date\"].dt.year\n",
    "train_data[\"Order_Month\"]=train_data[\"Order_Date\"].dt.month\n",
    "train_data[\"Order_Day\"]=train_data[\"Order_Date\"].dt.day"
   ]
  },
  {
   "cell_type": "code",
   "execution_count": 19,
   "id": "a8225266",
   "metadata": {},
   "outputs": [],
   "source": [
    "train_data[\"Time_Orderd_hr\"]=train_data[\"Time_Orderd\"].dt.hour\n",
    "train_data[\"Time_Orderd_minute\"]=train_data[\"Time_Orderd\"].dt.minute\n",
    "\n",
    "train_data[\"Time_Order_picked_hr\"]=train_data[\"Time_Order_picked\"].dt.hour\n",
    "train_data[\"Time_Order_picked_minute\"]=train_data[\"Time_Order_picked\"].dt.minute"
   ]
  },
  {
   "cell_type": "code",
   "execution_count": 20,
   "id": "c73da9b8",
   "metadata": {},
   "outputs": [],
   "source": [
    "train_data.drop([\"Order_Date\",\"Time_Orderd\",\"Time_Order_picked\"],axis=1,inplace=True)"
   ]
  },
  {
   "cell_type": "code",
   "execution_count": 21,
   "id": "b316e7d1",
   "metadata": {
    "scrolled": true
   },
   "outputs": [
    {
     "name": "stdout",
     "output_type": "stream",
     "text": [
      "<class 'pandas.core.frame.DataFrame'>\n",
      "Int64Index: 45593 entries, 0 to 45592\n",
      "Data columns (total 25 columns):\n",
      " #   Column                       Non-Null Count  Dtype          \n",
      "---  ------                       --------------  -----          \n",
      " 0   ID                           45593 non-null  object         \n",
      " 1   Delivery_person_ID           45593 non-null  object         \n",
      " 2   Delivery_person_Age          45593 non-null  float64        \n",
      " 3   Delivery_person_Ratings      45593 non-null  float64        \n",
      " 4   Restaurant_latitude          45593 non-null  float64        \n",
      " 5   Restaurant_longitude         45593 non-null  float64        \n",
      " 6   Delivery_location_latitude   45593 non-null  float64        \n",
      " 7   Delivery_location_longitude  45593 non-null  float64        \n",
      " 8   Weather conditions           45593 non-null  object         \n",
      " 9   Road_traffic_density         45593 non-null  object         \n",
      " 10  Vehicle_condition            45593 non-null  int64          \n",
      " 11  Type_of_order                45593 non-null  object         \n",
      " 12  Type_of_vehicle              45593 non-null  object         \n",
      " 13  multiple_deliveries          45593 non-null  float64        \n",
      " 14  Festival                     45593 non-null  object         \n",
      " 15  City                         45593 non-null  object         \n",
      " 16  Time_taken (min)             45593 non-null  float64        \n",
      " 17  timediff                     45593 non-null  timedelta64[ns]\n",
      " 18  Order_Year                   45593 non-null  int64          \n",
      " 19  Order_Month                  45593 non-null  int64          \n",
      " 20  Order_Day                    45593 non-null  int64          \n",
      " 21  Time_Orderd_hr               45593 non-null  int64          \n",
      " 22  Time_Orderd_minute           45593 non-null  int64          \n",
      " 23  Time_Order_picked_hr         45593 non-null  int64          \n",
      " 24  Time_Order_picked_minute     45593 non-null  int64          \n",
      "dtypes: float64(8), int64(8), object(8), timedelta64[ns](1)\n",
      "memory usage: 9.0+ MB\n"
     ]
    }
   ],
   "source": [
    "train_data.info()"
   ]
  },
  {
   "cell_type": "markdown",
   "id": "a7e3ddb2",
   "metadata": {},
   "source": [
    "#### Finding Correlation"
   ]
  },
  {
   "cell_type": "code",
   "execution_count": 22,
   "id": "9b5ca6d5",
   "metadata": {},
   "outputs": [
    {
     "data": {
      "application/vnd.plotly.v1+json": {
       "config": {
        "linkText": "Export to plot.ly",
        "plotlyServerURL": "https://plot.ly",
        "showLink": false
       },
       "data": [
        {
         "colorscale": [
          [
           0,
           "#440154"
          ],
          [
           0.1111111111111111,
           "#482878"
          ],
          [
           0.2222222222222222,
           "#3e4989"
          ],
          [
           0.3333333333333333,
           "#31688e"
          ],
          [
           0.4444444444444444,
           "#26828e"
          ],
          [
           0.5555555555555556,
           "#1f9e89"
          ],
          [
           0.6666666666666666,
           "#35b779"
          ],
          [
           0.7777777777777778,
           "#6ece58"
          ],
          [
           0.8888888888888888,
           "#b5de2b"
          ],
          [
           1,
           "#fde725"
          ]
         ],
         "opacity": 1,
         "reversescale": false,
         "type": "heatmap",
         "x": [
          "Delivery_person_Ratings",
          "Restaurant_latitude",
          "Restaurant_longitude",
          "Delivery_location_latitude",
          "Delivery_location_longitude",
          "Vehicle_condition",
          "multiple_deliveries",
          "Order_Year",
          "Order_Month",
          "Order_Day",
          "Time_Orderd_hr",
          "Time_Orderd_minute",
          "Time_Order_picked_hr",
          "Time_Order_picked_minute"
         ],
         "y": [
          "Delivery_person_Ratings",
          "Restaurant_latitude",
          "Restaurant_longitude",
          "Delivery_location_latitude",
          "Delivery_location_longitude",
          "Vehicle_condition",
          "multiple_deliveries",
          "Order_Year",
          "Order_Month",
          "Order_Day",
          "Time_Orderd_hr",
          "Time_Orderd_minute",
          "Time_Order_picked_hr",
          "Time_Order_picked_minute"
         ],
         "z": [
          [
           1,
           -0.0071021785234655,
           -0.013104862571251681,
           -0.010708115902311794,
           -0.014075128088888911,
           0.03332768164698109,
           -0.11370944221786133,
           null,
           -0.008127790629642065,
           -0.006507760342411065,
           -0.057899172775781924,
           0.0022964505645402906,
           -0.04790280849983891,
           -0.0017840867562278625
          ],
          [
           -0.0071021785234655,
           1,
           0.6617844250555351,
           0.8663776809532625,
           0.602713106258594,
           -0.033550966007593025,
           0.008223578130764492,
           null,
           -0.030809739505305488,
           1.345510560500036e-05,
           0.007658494278265345,
           0.00018541433865563455,
           0.008687957586229728,
           -0.002977287565379831
          ],
          [
           -0.013104862571251681,
           0.6617844250555351,
           1,
           0.6322931513210862,
           0.9150257119822512,
           -0.038743709417114594,
           0.004561333484846361,
           null,
           0.08433693486213671,
           -0.0019010327222609125,
           -0.00039470361807202205,
           0.004220172101751798,
           0.0015666649692652407,
           -0.0019355991272908188
          ],
          [
           -0.010708115902311794,
           0.8663776809532625,
           0.6322931513210862,
           1,
           0.6905149945613697,
           -0.001603602597377548,
           0.010114690626393127,
           null,
           -0.07453080359510024,
           0.0022605228094842917,
           0.0094159662076603,
           -0.0009401475795543845,
           0.010482660319051908,
           -0.0015036158939251668
          ],
          [
           -0.014075128088888911,
           0.602713106258594,
           0.9150257119822512,
           0.6905149945613697,
           1,
           -0.001960189697386726,
           0.004980034055932284,
           null,
           0.0875889770163565,
           -0.0033144950524791037,
           0.00021711307640399092,
           0.004169084551426985,
           0.0018724253326069,
           -0.0015923204033717483
          ],
          [
           0.03332768164698109,
           -0.033550966007593025,
           -0.038743709417114594,
           -0.001603602597377548,
           -0.001960189697386726,
           1,
           -0.09598952535405555,
           null,
           0.002277201861531183,
           0.00107743869219607,
           0.0024902816601804763,
           -0.002693010871968175,
           0.006933772950771639,
           0.006936310168944584
          ],
          [
           -0.11370944221786133,
           0.008223578130764492,
           0.004561333484846361,
           0.010114690626393127,
           0.004980034055932284,
           -0.09598952535405555,
           1,
           null,
           -0.011454090422823707,
           0.015562914495737344,
           0.06845921952191414,
           0.0020963484839552965,
           0.07647451162126075,
           -0.0028583241698874854
          ],
          [
           null,
           null,
           null,
           null,
           null,
           null,
           null,
           null,
           null,
           null,
           null,
           null,
           null,
           null
          ],
          [
           -0.008127790629642065,
           -0.030809739505305488,
           0.08433693486213671,
           -0.07453080359510024,
           0.0875889770163565,
           0.002277201861531183,
           -0.011454090422823707,
           null,
           1,
           -0.3256271149688468,
           -0.00614321043714501,
           0.005586174400833885,
           -0.0053452192704935815,
           -0.00357527715183856
          ],
          [
           -0.006507760342411065,
           1.345510560500036e-05,
           -0.0019010327222609125,
           0.0022605228094842917,
           -0.0033144950524791037,
           0.00107743869219607,
           0.015562914495737344,
           null,
           -0.3256271149688468,
           1,
           0.03067763629770904,
           0.00104220899208529,
           0.029151356849172694,
           0.005595709302177784
          ],
          [
           -0.057899172775781924,
           0.007658494278265345,
           -0.00039470361807202205,
           0.0094159662076603,
           0.00021711307640399092,
           0.0024902816601804763,
           0.06845921952191414,
           null,
           -0.00614321043714501,
           0.03067763629770904,
           1,
           0.056061863169267874,
           0.8107627142384147,
           0.03886662708175005
          ],
          [
           0.0022964505645402906,
           0.00018541433865563455,
           0.004220172101751798,
           -0.0009401475795543845,
           0.004169084551426985,
           -0.002693010871968175,
           0.0020963484839552965,
           null,
           0.005586174400833885,
           0.00104220899208529,
           0.056061863169267874,
           1,
           -0.016112265687370397,
           0.12662716271194743
          ],
          [
           -0.04790280849983891,
           0.008687957586229728,
           0.0015666649692652407,
           0.010482660319051908,
           0.0018724253326069,
           0.006933772950771639,
           0.07647451162126075,
           null,
           -0.0053452192704935815,
           0.029151356849172694,
           0.8107627142384147,
           -0.016112265687370397,
           1,
           0.10824989795259776
          ],
          [
           -0.0017840867562278625,
           -0.002977287565379831,
           -0.0019355991272908188,
           -0.0015036158939251668,
           -0.0015923204033717483,
           0.006936310168944584,
           -0.0028583241698874854,
           null,
           -0.00357527715183856,
           0.005595709302177784,
           0.03886662708175005,
           0.12662716271194743,
           0.10824989795259776,
           1
          ]
         ]
        }
       ],
       "layout": {
        "height": 700,
        "template": {
         "data": {
          "bar": [
           {
            "error_x": {
             "color": "#2a3f5f"
            },
            "error_y": {
             "color": "#2a3f5f"
            },
            "marker": {
             "line": {
              "color": "#E5ECF6",
              "width": 0.5
             },
             "pattern": {
              "fillmode": "overlay",
              "size": 10,
              "solidity": 0.2
             }
            },
            "type": "bar"
           }
          ],
          "barpolar": [
           {
            "marker": {
             "line": {
              "color": "#E5ECF6",
              "width": 0.5
             },
             "pattern": {
              "fillmode": "overlay",
              "size": 10,
              "solidity": 0.2
             }
            },
            "type": "barpolar"
           }
          ],
          "carpet": [
           {
            "aaxis": {
             "endlinecolor": "#2a3f5f",
             "gridcolor": "white",
             "linecolor": "white",
             "minorgridcolor": "white",
             "startlinecolor": "#2a3f5f"
            },
            "baxis": {
             "endlinecolor": "#2a3f5f",
             "gridcolor": "white",
             "linecolor": "white",
             "minorgridcolor": "white",
             "startlinecolor": "#2a3f5f"
            },
            "type": "carpet"
           }
          ],
          "choropleth": [
           {
            "colorbar": {
             "outlinewidth": 0,
             "ticks": ""
            },
            "type": "choropleth"
           }
          ],
          "contour": [
           {
            "colorbar": {
             "outlinewidth": 0,
             "ticks": ""
            },
            "colorscale": [
             [
              0,
              "#0d0887"
             ],
             [
              0.1111111111111111,
              "#46039f"
             ],
             [
              0.2222222222222222,
              "#7201a8"
             ],
             [
              0.3333333333333333,
              "#9c179e"
             ],
             [
              0.4444444444444444,
              "#bd3786"
             ],
             [
              0.5555555555555556,
              "#d8576b"
             ],
             [
              0.6666666666666666,
              "#ed7953"
             ],
             [
              0.7777777777777778,
              "#fb9f3a"
             ],
             [
              0.8888888888888888,
              "#fdca26"
             ],
             [
              1,
              "#f0f921"
             ]
            ],
            "type": "contour"
           }
          ],
          "contourcarpet": [
           {
            "colorbar": {
             "outlinewidth": 0,
             "ticks": ""
            },
            "type": "contourcarpet"
           }
          ],
          "heatmap": [
           {
            "colorbar": {
             "outlinewidth": 0,
             "ticks": ""
            },
            "colorscale": [
             [
              0,
              "#0d0887"
             ],
             [
              0.1111111111111111,
              "#46039f"
             ],
             [
              0.2222222222222222,
              "#7201a8"
             ],
             [
              0.3333333333333333,
              "#9c179e"
             ],
             [
              0.4444444444444444,
              "#bd3786"
             ],
             [
              0.5555555555555556,
              "#d8576b"
             ],
             [
              0.6666666666666666,
              "#ed7953"
             ],
             [
              0.7777777777777778,
              "#fb9f3a"
             ],
             [
              0.8888888888888888,
              "#fdca26"
             ],
             [
              1,
              "#f0f921"
             ]
            ],
            "type": "heatmap"
           }
          ],
          "heatmapgl": [
           {
            "colorbar": {
             "outlinewidth": 0,
             "ticks": ""
            },
            "colorscale": [
             [
              0,
              "#0d0887"
             ],
             [
              0.1111111111111111,
              "#46039f"
             ],
             [
              0.2222222222222222,
              "#7201a8"
             ],
             [
              0.3333333333333333,
              "#9c179e"
             ],
             [
              0.4444444444444444,
              "#bd3786"
             ],
             [
              0.5555555555555556,
              "#d8576b"
             ],
             [
              0.6666666666666666,
              "#ed7953"
             ],
             [
              0.7777777777777778,
              "#fb9f3a"
             ],
             [
              0.8888888888888888,
              "#fdca26"
             ],
             [
              1,
              "#f0f921"
             ]
            ],
            "type": "heatmapgl"
           }
          ],
          "histogram": [
           {
            "marker": {
             "pattern": {
              "fillmode": "overlay",
              "size": 10,
              "solidity": 0.2
             }
            },
            "type": "histogram"
           }
          ],
          "histogram2d": [
           {
            "colorbar": {
             "outlinewidth": 0,
             "ticks": ""
            },
            "colorscale": [
             [
              0,
              "#0d0887"
             ],
             [
              0.1111111111111111,
              "#46039f"
             ],
             [
              0.2222222222222222,
              "#7201a8"
             ],
             [
              0.3333333333333333,
              "#9c179e"
             ],
             [
              0.4444444444444444,
              "#bd3786"
             ],
             [
              0.5555555555555556,
              "#d8576b"
             ],
             [
              0.6666666666666666,
              "#ed7953"
             ],
             [
              0.7777777777777778,
              "#fb9f3a"
             ],
             [
              0.8888888888888888,
              "#fdca26"
             ],
             [
              1,
              "#f0f921"
             ]
            ],
            "type": "histogram2d"
           }
          ],
          "histogram2dcontour": [
           {
            "colorbar": {
             "outlinewidth": 0,
             "ticks": ""
            },
            "colorscale": [
             [
              0,
              "#0d0887"
             ],
             [
              0.1111111111111111,
              "#46039f"
             ],
             [
              0.2222222222222222,
              "#7201a8"
             ],
             [
              0.3333333333333333,
              "#9c179e"
             ],
             [
              0.4444444444444444,
              "#bd3786"
             ],
             [
              0.5555555555555556,
              "#d8576b"
             ],
             [
              0.6666666666666666,
              "#ed7953"
             ],
             [
              0.7777777777777778,
              "#fb9f3a"
             ],
             [
              0.8888888888888888,
              "#fdca26"
             ],
             [
              1,
              "#f0f921"
             ]
            ],
            "type": "histogram2dcontour"
           }
          ],
          "mesh3d": [
           {
            "colorbar": {
             "outlinewidth": 0,
             "ticks": ""
            },
            "type": "mesh3d"
           }
          ],
          "parcoords": [
           {
            "line": {
             "colorbar": {
              "outlinewidth": 0,
              "ticks": ""
             }
            },
            "type": "parcoords"
           }
          ],
          "pie": [
           {
            "automargin": true,
            "type": "pie"
           }
          ],
          "scatter": [
           {
            "fillpattern": {
             "fillmode": "overlay",
             "size": 10,
             "solidity": 0.2
            },
            "type": "scatter"
           }
          ],
          "scatter3d": [
           {
            "line": {
             "colorbar": {
              "outlinewidth": 0,
              "ticks": ""
             }
            },
            "marker": {
             "colorbar": {
              "outlinewidth": 0,
              "ticks": ""
             }
            },
            "type": "scatter3d"
           }
          ],
          "scattercarpet": [
           {
            "marker": {
             "colorbar": {
              "outlinewidth": 0,
              "ticks": ""
             }
            },
            "type": "scattercarpet"
           }
          ],
          "scattergeo": [
           {
            "marker": {
             "colorbar": {
              "outlinewidth": 0,
              "ticks": ""
             }
            },
            "type": "scattergeo"
           }
          ],
          "scattergl": [
           {
            "marker": {
             "colorbar": {
              "outlinewidth": 0,
              "ticks": ""
             }
            },
            "type": "scattergl"
           }
          ],
          "scattermapbox": [
           {
            "marker": {
             "colorbar": {
              "outlinewidth": 0,
              "ticks": ""
             }
            },
            "type": "scattermapbox"
           }
          ],
          "scatterpolar": [
           {
            "marker": {
             "colorbar": {
              "outlinewidth": 0,
              "ticks": ""
             }
            },
            "type": "scatterpolar"
           }
          ],
          "scatterpolargl": [
           {
            "marker": {
             "colorbar": {
              "outlinewidth": 0,
              "ticks": ""
             }
            },
            "type": "scatterpolargl"
           }
          ],
          "scatterternary": [
           {
            "marker": {
             "colorbar": {
              "outlinewidth": 0,
              "ticks": ""
             }
            },
            "type": "scatterternary"
           }
          ],
          "surface": [
           {
            "colorbar": {
             "outlinewidth": 0,
             "ticks": ""
            },
            "colorscale": [
             [
              0,
              "#0d0887"
             ],
             [
              0.1111111111111111,
              "#46039f"
             ],
             [
              0.2222222222222222,
              "#7201a8"
             ],
             [
              0.3333333333333333,
              "#9c179e"
             ],
             [
              0.4444444444444444,
              "#bd3786"
             ],
             [
              0.5555555555555556,
              "#d8576b"
             ],
             [
              0.6666666666666666,
              "#ed7953"
             ],
             [
              0.7777777777777778,
              "#fb9f3a"
             ],
             [
              0.8888888888888888,
              "#fdca26"
             ],
             [
              1,
              "#f0f921"
             ]
            ],
            "type": "surface"
           }
          ],
          "table": [
           {
            "cells": {
             "fill": {
              "color": "#EBF0F8"
             },
             "line": {
              "color": "white"
             }
            },
            "header": {
             "fill": {
              "color": "#C8D4E3"
             },
             "line": {
              "color": "white"
             }
            },
            "type": "table"
           }
          ]
         },
         "layout": {
          "annotationdefaults": {
           "arrowcolor": "#2a3f5f",
           "arrowhead": 0,
           "arrowwidth": 1
          },
          "autotypenumbers": "strict",
          "coloraxis": {
           "colorbar": {
            "outlinewidth": 0,
            "ticks": ""
           }
          },
          "colorscale": {
           "diverging": [
            [
             0,
             "#8e0152"
            ],
            [
             0.1,
             "#c51b7d"
            ],
            [
             0.2,
             "#de77ae"
            ],
            [
             0.3,
             "#f1b6da"
            ],
            [
             0.4,
             "#fde0ef"
            ],
            [
             0.5,
             "#f7f7f7"
            ],
            [
             0.6,
             "#e6f5d0"
            ],
            [
             0.7,
             "#b8e186"
            ],
            [
             0.8,
             "#7fbc41"
            ],
            [
             0.9,
             "#4d9221"
            ],
            [
             1,
             "#276419"
            ]
           ],
           "sequential": [
            [
             0,
             "#0d0887"
            ],
            [
             0.1111111111111111,
             "#46039f"
            ],
            [
             0.2222222222222222,
             "#7201a8"
            ],
            [
             0.3333333333333333,
             "#9c179e"
            ],
            [
             0.4444444444444444,
             "#bd3786"
            ],
            [
             0.5555555555555556,
             "#d8576b"
            ],
            [
             0.6666666666666666,
             "#ed7953"
            ],
            [
             0.7777777777777778,
             "#fb9f3a"
            ],
            [
             0.8888888888888888,
             "#fdca26"
            ],
            [
             1,
             "#f0f921"
            ]
           ],
           "sequentialminus": [
            [
             0,
             "#0d0887"
            ],
            [
             0.1111111111111111,
             "#46039f"
            ],
            [
             0.2222222222222222,
             "#7201a8"
            ],
            [
             0.3333333333333333,
             "#9c179e"
            ],
            [
             0.4444444444444444,
             "#bd3786"
            ],
            [
             0.5555555555555556,
             "#d8576b"
            ],
            [
             0.6666666666666666,
             "#ed7953"
            ],
            [
             0.7777777777777778,
             "#fb9f3a"
            ],
            [
             0.8888888888888888,
             "#fdca26"
            ],
            [
             1,
             "#f0f921"
            ]
           ]
          },
          "colorway": [
           "#636efa",
           "#EF553B",
           "#00cc96",
           "#ab63fa",
           "#FFA15A",
           "#19d3f3",
           "#FF6692",
           "#B6E880",
           "#FF97FF",
           "#FECB52"
          ],
          "font": {
           "color": "#2a3f5f"
          },
          "geo": {
           "bgcolor": "white",
           "lakecolor": "white",
           "landcolor": "#E5ECF6",
           "showlakes": true,
           "showland": true,
           "subunitcolor": "white"
          },
          "hoverlabel": {
           "align": "left"
          },
          "hovermode": "closest",
          "mapbox": {
           "style": "light"
          },
          "paper_bgcolor": "white",
          "plot_bgcolor": "#E5ECF6",
          "polar": {
           "angularaxis": {
            "gridcolor": "white",
            "linecolor": "white",
            "ticks": ""
           },
           "bgcolor": "#E5ECF6",
           "radialaxis": {
            "gridcolor": "white",
            "linecolor": "white",
            "ticks": ""
           }
          },
          "scene": {
           "xaxis": {
            "backgroundcolor": "#E5ECF6",
            "gridcolor": "white",
            "gridwidth": 2,
            "linecolor": "white",
            "showbackground": true,
            "ticks": "",
            "zerolinecolor": "white"
           },
           "yaxis": {
            "backgroundcolor": "#E5ECF6",
            "gridcolor": "white",
            "gridwidth": 2,
            "linecolor": "white",
            "showbackground": true,
            "ticks": "",
            "zerolinecolor": "white"
           },
           "zaxis": {
            "backgroundcolor": "#E5ECF6",
            "gridcolor": "white",
            "gridwidth": 2,
            "linecolor": "white",
            "showbackground": true,
            "ticks": "",
            "zerolinecolor": "white"
           }
          },
          "shapedefaults": {
           "line": {
            "color": "#2a3f5f"
           }
          },
          "ternary": {
           "aaxis": {
            "gridcolor": "white",
            "linecolor": "white",
            "ticks": ""
           },
           "baxis": {
            "gridcolor": "white",
            "linecolor": "white",
            "ticks": ""
           },
           "bgcolor": "#E5ECF6",
           "caxis": {
            "gridcolor": "white",
            "linecolor": "white",
            "ticks": ""
           }
          },
          "title": {
           "x": 0.05
          },
          "xaxis": {
           "automargin": true,
           "gridcolor": "white",
           "linecolor": "white",
           "ticks": "",
           "title": {
            "standoff": 15
           },
           "zerolinecolor": "white",
           "zerolinewidth": 2
          },
          "yaxis": {
           "automargin": true,
           "gridcolor": "white",
           "linecolor": "white",
           "ticks": "",
           "title": {
            "standoff": 15
           },
           "zerolinecolor": "white",
           "zerolinewidth": 2
          }
         }
        },
        "title": {
         "text": "Pearson Correlation of numerical features"
        },
        "width": 900,
        "xaxis": {
         "nticks": 36,
         "ticks": ""
        },
        "yaxis": {
         "ticks": ""
        }
       }
      },
      "text/html": [
       "<div>                            <div id=\"c9e87f09-295d-4b6e-8007-f10e7be6b6b0\" class=\"plotly-graph-div\" style=\"height:700px; width:900px;\"></div>            <script type=\"text/javascript\">                require([\"plotly\"], function(Plotly) {                    window.PLOTLYENV=window.PLOTLYENV || {};                                    if (document.getElementById(\"c9e87f09-295d-4b6e-8007-f10e7be6b6b0\")) {                    Plotly.newPlot(                        \"c9e87f09-295d-4b6e-8007-f10e7be6b6b0\",                        [{\"colorscale\":[[0.0,\"#440154\"],[0.1111111111111111,\"#482878\"],[0.2222222222222222,\"#3e4989\"],[0.3333333333333333,\"#31688e\"],[0.4444444444444444,\"#26828e\"],[0.5555555555555556,\"#1f9e89\"],[0.6666666666666666,\"#35b779\"],[0.7777777777777778,\"#6ece58\"],[0.8888888888888888,\"#b5de2b\"],[1.0,\"#fde725\"]],\"opacity\":1.0,\"reversescale\":false,\"x\":[\"Delivery_person_Ratings\",\"Restaurant_latitude\",\"Restaurant_longitude\",\"Delivery_location_latitude\",\"Delivery_location_longitude\",\"Vehicle_condition\",\"multiple_deliveries\",\"Order_Year\",\"Order_Month\",\"Order_Day\",\"Time_Orderd_hr\",\"Time_Orderd_minute\",\"Time_Order_picked_hr\",\"Time_Order_picked_minute\"],\"y\":[\"Delivery_person_Ratings\",\"Restaurant_latitude\",\"Restaurant_longitude\",\"Delivery_location_latitude\",\"Delivery_location_longitude\",\"Vehicle_condition\",\"multiple_deliveries\",\"Order_Year\",\"Order_Month\",\"Order_Day\",\"Time_Orderd_hr\",\"Time_Orderd_minute\",\"Time_Order_picked_hr\",\"Time_Order_picked_minute\"],\"z\":[[1.0,-0.0071021785234655,-0.013104862571251681,-0.010708115902311794,-0.014075128088888911,0.03332768164698109,-0.11370944221786133,null,-0.008127790629642065,-0.006507760342411065,-0.057899172775781924,0.0022964505645402906,-0.04790280849983891,-0.0017840867562278625],[-0.0071021785234655,1.0,0.6617844250555351,0.8663776809532625,0.602713106258594,-0.033550966007593025,0.008223578130764492,null,-0.030809739505305488,1.345510560500036e-05,0.007658494278265345,0.00018541433865563455,0.008687957586229728,-0.002977287565379831],[-0.013104862571251681,0.6617844250555351,1.0,0.6322931513210862,0.9150257119822512,-0.038743709417114594,0.004561333484846361,null,0.08433693486213671,-0.0019010327222609125,-0.00039470361807202205,0.004220172101751798,0.0015666649692652407,-0.0019355991272908188],[-0.010708115902311794,0.8663776809532625,0.6322931513210862,1.0,0.6905149945613697,-0.001603602597377548,0.010114690626393127,null,-0.07453080359510024,0.0022605228094842917,0.0094159662076603,-0.0009401475795543845,0.010482660319051908,-0.0015036158939251668],[-0.014075128088888911,0.602713106258594,0.9150257119822512,0.6905149945613697,1.0,-0.001960189697386726,0.004980034055932284,null,0.0875889770163565,-0.0033144950524791037,0.00021711307640399092,0.004169084551426985,0.0018724253326069,-0.0015923204033717483],[0.03332768164698109,-0.033550966007593025,-0.038743709417114594,-0.001603602597377548,-0.001960189697386726,1.0,-0.09598952535405555,null,0.002277201861531183,0.00107743869219607,0.0024902816601804763,-0.002693010871968175,0.006933772950771639,0.006936310168944584],[-0.11370944221786133,0.008223578130764492,0.004561333484846361,0.010114690626393127,0.004980034055932284,-0.09598952535405555,1.0,null,-0.011454090422823707,0.015562914495737344,0.06845921952191414,0.0020963484839552965,0.07647451162126075,-0.0028583241698874854],[null,null,null,null,null,null,null,null,null,null,null,null,null,null],[-0.008127790629642065,-0.030809739505305488,0.08433693486213671,-0.07453080359510024,0.0875889770163565,0.002277201861531183,-0.011454090422823707,null,1.0,-0.3256271149688468,-0.00614321043714501,0.005586174400833885,-0.0053452192704935815,-0.00357527715183856],[-0.006507760342411065,1.345510560500036e-05,-0.0019010327222609125,0.0022605228094842917,-0.0033144950524791037,0.00107743869219607,0.015562914495737344,null,-0.3256271149688468,1.0,0.03067763629770904,0.00104220899208529,0.029151356849172694,0.005595709302177784],[-0.057899172775781924,0.007658494278265345,-0.00039470361807202205,0.0094159662076603,0.00021711307640399092,0.0024902816601804763,0.06845921952191414,null,-0.00614321043714501,0.03067763629770904,1.0,0.056061863169267874,0.8107627142384147,0.03886662708175005],[0.0022964505645402906,0.00018541433865563455,0.004220172101751798,-0.0009401475795543845,0.004169084551426985,-0.002693010871968175,0.0020963484839552965,null,0.005586174400833885,0.00104220899208529,0.056061863169267874,1.0,-0.016112265687370397,0.12662716271194743],[-0.04790280849983891,0.008687957586229728,0.0015666649692652407,0.010482660319051908,0.0018724253326069,0.006933772950771639,0.07647451162126075,null,-0.0053452192704935815,0.029151356849172694,0.8107627142384147,-0.016112265687370397,1.0,0.10824989795259776],[-0.0017840867562278625,-0.002977287565379831,-0.0019355991272908188,-0.0015036158939251668,-0.0015923204033717483,0.006936310168944584,-0.0028583241698874854,null,-0.00357527715183856,0.005595709302177784,0.03886662708175005,0.12662716271194743,0.10824989795259776,1.0]],\"type\":\"heatmap\"}],                        {\"height\":700,\"template\":{\"data\":{\"barpolar\":[{\"marker\":{\"line\":{\"color\":\"#E5ECF6\",\"width\":0.5},\"pattern\":{\"fillmode\":\"overlay\",\"size\":10,\"solidity\":0.2}},\"type\":\"barpolar\"}],\"bar\":[{\"error_x\":{\"color\":\"#2a3f5f\"},\"error_y\":{\"color\":\"#2a3f5f\"},\"marker\":{\"line\":{\"color\":\"#E5ECF6\",\"width\":0.5},\"pattern\":{\"fillmode\":\"overlay\",\"size\":10,\"solidity\":0.2}},\"type\":\"bar\"}],\"carpet\":[{\"aaxis\":{\"endlinecolor\":\"#2a3f5f\",\"gridcolor\":\"white\",\"linecolor\":\"white\",\"minorgridcolor\":\"white\",\"startlinecolor\":\"#2a3f5f\"},\"baxis\":{\"endlinecolor\":\"#2a3f5f\",\"gridcolor\":\"white\",\"linecolor\":\"white\",\"minorgridcolor\":\"white\",\"startlinecolor\":\"#2a3f5f\"},\"type\":\"carpet\"}],\"choropleth\":[{\"colorbar\":{\"outlinewidth\":0,\"ticks\":\"\"},\"type\":\"choropleth\"}],\"contourcarpet\":[{\"colorbar\":{\"outlinewidth\":0,\"ticks\":\"\"},\"type\":\"contourcarpet\"}],\"contour\":[{\"colorbar\":{\"outlinewidth\":0,\"ticks\":\"\"},\"colorscale\":[[0.0,\"#0d0887\"],[0.1111111111111111,\"#46039f\"],[0.2222222222222222,\"#7201a8\"],[0.3333333333333333,\"#9c179e\"],[0.4444444444444444,\"#bd3786\"],[0.5555555555555556,\"#d8576b\"],[0.6666666666666666,\"#ed7953\"],[0.7777777777777778,\"#fb9f3a\"],[0.8888888888888888,\"#fdca26\"],[1.0,\"#f0f921\"]],\"type\":\"contour\"}],\"heatmapgl\":[{\"colorbar\":{\"outlinewidth\":0,\"ticks\":\"\"},\"colorscale\":[[0.0,\"#0d0887\"],[0.1111111111111111,\"#46039f\"],[0.2222222222222222,\"#7201a8\"],[0.3333333333333333,\"#9c179e\"],[0.4444444444444444,\"#bd3786\"],[0.5555555555555556,\"#d8576b\"],[0.6666666666666666,\"#ed7953\"],[0.7777777777777778,\"#fb9f3a\"],[0.8888888888888888,\"#fdca26\"],[1.0,\"#f0f921\"]],\"type\":\"heatmapgl\"}],\"heatmap\":[{\"colorbar\":{\"outlinewidth\":0,\"ticks\":\"\"},\"colorscale\":[[0.0,\"#0d0887\"],[0.1111111111111111,\"#46039f\"],[0.2222222222222222,\"#7201a8\"],[0.3333333333333333,\"#9c179e\"],[0.4444444444444444,\"#bd3786\"],[0.5555555555555556,\"#d8576b\"],[0.6666666666666666,\"#ed7953\"],[0.7777777777777778,\"#fb9f3a\"],[0.8888888888888888,\"#fdca26\"],[1.0,\"#f0f921\"]],\"type\":\"heatmap\"}],\"histogram2dcontour\":[{\"colorbar\":{\"outlinewidth\":0,\"ticks\":\"\"},\"colorscale\":[[0.0,\"#0d0887\"],[0.1111111111111111,\"#46039f\"],[0.2222222222222222,\"#7201a8\"],[0.3333333333333333,\"#9c179e\"],[0.4444444444444444,\"#bd3786\"],[0.5555555555555556,\"#d8576b\"],[0.6666666666666666,\"#ed7953\"],[0.7777777777777778,\"#fb9f3a\"],[0.8888888888888888,\"#fdca26\"],[1.0,\"#f0f921\"]],\"type\":\"histogram2dcontour\"}],\"histogram2d\":[{\"colorbar\":{\"outlinewidth\":0,\"ticks\":\"\"},\"colorscale\":[[0.0,\"#0d0887\"],[0.1111111111111111,\"#46039f\"],[0.2222222222222222,\"#7201a8\"],[0.3333333333333333,\"#9c179e\"],[0.4444444444444444,\"#bd3786\"],[0.5555555555555556,\"#d8576b\"],[0.6666666666666666,\"#ed7953\"],[0.7777777777777778,\"#fb9f3a\"],[0.8888888888888888,\"#fdca26\"],[1.0,\"#f0f921\"]],\"type\":\"histogram2d\"}],\"histogram\":[{\"marker\":{\"pattern\":{\"fillmode\":\"overlay\",\"size\":10,\"solidity\":0.2}},\"type\":\"histogram\"}],\"mesh3d\":[{\"colorbar\":{\"outlinewidth\":0,\"ticks\":\"\"},\"type\":\"mesh3d\"}],\"parcoords\":[{\"line\":{\"colorbar\":{\"outlinewidth\":0,\"ticks\":\"\"}},\"type\":\"parcoords\"}],\"pie\":[{\"automargin\":true,\"type\":\"pie\"}],\"scatter3d\":[{\"line\":{\"colorbar\":{\"outlinewidth\":0,\"ticks\":\"\"}},\"marker\":{\"colorbar\":{\"outlinewidth\":0,\"ticks\":\"\"}},\"type\":\"scatter3d\"}],\"scattercarpet\":[{\"marker\":{\"colorbar\":{\"outlinewidth\":0,\"ticks\":\"\"}},\"type\":\"scattercarpet\"}],\"scattergeo\":[{\"marker\":{\"colorbar\":{\"outlinewidth\":0,\"ticks\":\"\"}},\"type\":\"scattergeo\"}],\"scattergl\":[{\"marker\":{\"colorbar\":{\"outlinewidth\":0,\"ticks\":\"\"}},\"type\":\"scattergl\"}],\"scattermapbox\":[{\"marker\":{\"colorbar\":{\"outlinewidth\":0,\"ticks\":\"\"}},\"type\":\"scattermapbox\"}],\"scatterpolargl\":[{\"marker\":{\"colorbar\":{\"outlinewidth\":0,\"ticks\":\"\"}},\"type\":\"scatterpolargl\"}],\"scatterpolar\":[{\"marker\":{\"colorbar\":{\"outlinewidth\":0,\"ticks\":\"\"}},\"type\":\"scatterpolar\"}],\"scatter\":[{\"fillpattern\":{\"fillmode\":\"overlay\",\"size\":10,\"solidity\":0.2},\"type\":\"scatter\"}],\"scatterternary\":[{\"marker\":{\"colorbar\":{\"outlinewidth\":0,\"ticks\":\"\"}},\"type\":\"scatterternary\"}],\"surface\":[{\"colorbar\":{\"outlinewidth\":0,\"ticks\":\"\"},\"colorscale\":[[0.0,\"#0d0887\"],[0.1111111111111111,\"#46039f\"],[0.2222222222222222,\"#7201a8\"],[0.3333333333333333,\"#9c179e\"],[0.4444444444444444,\"#bd3786\"],[0.5555555555555556,\"#d8576b\"],[0.6666666666666666,\"#ed7953\"],[0.7777777777777778,\"#fb9f3a\"],[0.8888888888888888,\"#fdca26\"],[1.0,\"#f0f921\"]],\"type\":\"surface\"}],\"table\":[{\"cells\":{\"fill\":{\"color\":\"#EBF0F8\"},\"line\":{\"color\":\"white\"}},\"header\":{\"fill\":{\"color\":\"#C8D4E3\"},\"line\":{\"color\":\"white\"}},\"type\":\"table\"}]},\"layout\":{\"annotationdefaults\":{\"arrowcolor\":\"#2a3f5f\",\"arrowhead\":0,\"arrowwidth\":1},\"autotypenumbers\":\"strict\",\"coloraxis\":{\"colorbar\":{\"outlinewidth\":0,\"ticks\":\"\"}},\"colorscale\":{\"diverging\":[[0,\"#8e0152\"],[0.1,\"#c51b7d\"],[0.2,\"#de77ae\"],[0.3,\"#f1b6da\"],[0.4,\"#fde0ef\"],[0.5,\"#f7f7f7\"],[0.6,\"#e6f5d0\"],[0.7,\"#b8e186\"],[0.8,\"#7fbc41\"],[0.9,\"#4d9221\"],[1,\"#276419\"]],\"sequential\":[[0.0,\"#0d0887\"],[0.1111111111111111,\"#46039f\"],[0.2222222222222222,\"#7201a8\"],[0.3333333333333333,\"#9c179e\"],[0.4444444444444444,\"#bd3786\"],[0.5555555555555556,\"#d8576b\"],[0.6666666666666666,\"#ed7953\"],[0.7777777777777778,\"#fb9f3a\"],[0.8888888888888888,\"#fdca26\"],[1.0,\"#f0f921\"]],\"sequentialminus\":[[0.0,\"#0d0887\"],[0.1111111111111111,\"#46039f\"],[0.2222222222222222,\"#7201a8\"],[0.3333333333333333,\"#9c179e\"],[0.4444444444444444,\"#bd3786\"],[0.5555555555555556,\"#d8576b\"],[0.6666666666666666,\"#ed7953\"],[0.7777777777777778,\"#fb9f3a\"],[0.8888888888888888,\"#fdca26\"],[1.0,\"#f0f921\"]]},\"colorway\":[\"#636efa\",\"#EF553B\",\"#00cc96\",\"#ab63fa\",\"#FFA15A\",\"#19d3f3\",\"#FF6692\",\"#B6E880\",\"#FF97FF\",\"#FECB52\"],\"font\":{\"color\":\"#2a3f5f\"},\"geo\":{\"bgcolor\":\"white\",\"lakecolor\":\"white\",\"landcolor\":\"#E5ECF6\",\"showlakes\":true,\"showland\":true,\"subunitcolor\":\"white\"},\"hoverlabel\":{\"align\":\"left\"},\"hovermode\":\"closest\",\"mapbox\":{\"style\":\"light\"},\"paper_bgcolor\":\"white\",\"plot_bgcolor\":\"#E5ECF6\",\"polar\":{\"angularaxis\":{\"gridcolor\":\"white\",\"linecolor\":\"white\",\"ticks\":\"\"},\"bgcolor\":\"#E5ECF6\",\"radialaxis\":{\"gridcolor\":\"white\",\"linecolor\":\"white\",\"ticks\":\"\"}},\"scene\":{\"xaxis\":{\"backgroundcolor\":\"#E5ECF6\",\"gridcolor\":\"white\",\"gridwidth\":2,\"linecolor\":\"white\",\"showbackground\":true,\"ticks\":\"\",\"zerolinecolor\":\"white\"},\"yaxis\":{\"backgroundcolor\":\"#E5ECF6\",\"gridcolor\":\"white\",\"gridwidth\":2,\"linecolor\":\"white\",\"showbackground\":true,\"ticks\":\"\",\"zerolinecolor\":\"white\"},\"zaxis\":{\"backgroundcolor\":\"#E5ECF6\",\"gridcolor\":\"white\",\"gridwidth\":2,\"linecolor\":\"white\",\"showbackground\":true,\"ticks\":\"\",\"zerolinecolor\":\"white\"}},\"shapedefaults\":{\"line\":{\"color\":\"#2a3f5f\"}},\"ternary\":{\"aaxis\":{\"gridcolor\":\"white\",\"linecolor\":\"white\",\"ticks\":\"\"},\"baxis\":{\"gridcolor\":\"white\",\"linecolor\":\"white\",\"ticks\":\"\"},\"bgcolor\":\"#E5ECF6\",\"caxis\":{\"gridcolor\":\"white\",\"linecolor\":\"white\",\"ticks\":\"\"}},\"title\":{\"x\":0.05},\"xaxis\":{\"automargin\":true,\"gridcolor\":\"white\",\"linecolor\":\"white\",\"ticks\":\"\",\"title\":{\"standoff\":15},\"zerolinecolor\":\"white\",\"zerolinewidth\":2},\"yaxis\":{\"automargin\":true,\"gridcolor\":\"white\",\"linecolor\":\"white\",\"ticks\":\"\",\"title\":{\"standoff\":15},\"zerolinecolor\":\"white\",\"zerolinewidth\":2}}},\"title\":{\"text\":\"Pearson Correlation of numerical features\"},\"width\":900,\"xaxis\":{\"nticks\":36,\"ticks\":\"\"},\"yaxis\":{\"ticks\":\"\"}},                        {\"responsive\": true}                    ).then(function(){\n",
       "                            \n",
       "var gd = document.getElementById('c9e87f09-295d-4b6e-8007-f10e7be6b6b0');\n",
       "var x = new MutationObserver(function (mutations, observer) {{\n",
       "        var display = window.getComputedStyle(gd).display;\n",
       "        if (!display || display === 'none') {{\n",
       "            console.log([gd, 'removed!']);\n",
       "            Plotly.purge(gd);\n",
       "            observer.disconnect();\n",
       "        }}\n",
       "}});\n",
       "\n",
       "// Listen for the removal of the full notebook cells\n",
       "var notebookContainer = gd.closest('#notebook-container');\n",
       "if (notebookContainer) {{\n",
       "    x.observe(notebookContainer, {childList: true});\n",
       "}}\n",
       "\n",
       "// Listen for the clearing of the current output cell\n",
       "var outputEl = gd.closest('.output');\n",
       "if (outputEl) {{\n",
       "    x.observe(outputEl, {childList: true});\n",
       "}}\n",
       "\n",
       "                        })                };                });            </script>        </div>"
      ]
     },
     "metadata": {},
     "output_type": "display_data"
    }
   ],
   "source": [
    "numerical = ['Delivery_person_Ratings', 'Restaurant_latitude', 'Restaurant_longitude', 'Delivery_location_latitude', \n",
    "             'Delivery_location_longitude','Vehicle_condition', 'multiple_deliveries','Order_Year', 'Order_Month', 'Order_Day', \n",
    "             'Time_Orderd_hr', 'Time_Orderd_minute', 'Time_Order_picked_hr', 'Time_Order_picked_minute']\n",
    "data = [ go.Heatmap(\n",
    "        z= train_data[numerical].astype(float).corr().values, # Pearson correlation\n",
    "        x=train_data[numerical].columns.values,\n",
    "        y=train_data[numerical].columns.values,\n",
    "        colorscale='Viridis',\n",
    "        reversescale = False,\n",
    "#         text = True ,\n",
    "        opacity = 1.0\n",
    "        \n",
    "    )\n",
    "]\n",
    "\n",
    "\n",
    "layout = go.Layout(\n",
    "    title='Pearson Correlation of numerical features',\n",
    "    xaxis = dict(ticks='', nticks=36),\n",
    "    yaxis = dict(ticks='' ),\n",
    "    width = 900, height = 700,\n",
    "    \n",
    ")\n",
    "\n",
    "\n",
    "fig = go.Figure(data=data, layout=layout)\n",
    "py.iplot(fig, filename='labelled-heatmap')"
   ]
  },
  {
   "cell_type": "markdown",
   "id": "a8259bb2",
   "metadata": {},
   "source": [
    "#### Catergorical Data Encoding"
   ]
  },
  {
   "cell_type": "code",
   "execution_count": 23,
   "id": "3fd4f802",
   "metadata": {},
   "outputs": [],
   "source": [
    "train_data_base = train_data.copy()"
   ]
  },
  {
   "cell_type": "code",
   "execution_count": 24,
   "id": "2943089f",
   "metadata": {},
   "outputs": [],
   "source": [
    "def categoricalDataEndcoding(train_data,train_data_base,catcol):\n",
    "    WC=list(train_data_base[catcol].unique())\n",
    "    WC_dict={k: v for v, k in enumerate(WC)}\n",
    "    train_data[catcol] = train_data[catcol].apply(lambda x: WC_dict[x])\n",
    "    return train_data"
   ]
  },
  {
   "cell_type": "code",
   "execution_count": 25,
   "id": "f16bfe74",
   "metadata": {
    "scrolled": true
   },
   "outputs": [],
   "source": [
    "catergoryData = [\"Weather conditions\",\"Road_traffic_density\",\"Type_of_order\",\"Type_of_vehicle\",\"Festival\",\"City\"]\n",
    "for i in catergoryData:\n",
    "    train_data = categoricalDataEndcoding(train_data,train_data_base,i)"
   ]
  },
  {
   "cell_type": "markdown",
   "id": "9eba7dd4",
   "metadata": {},
   "source": [
    "#### Splitting the dataset into the Training set and Test set"
   ]
  },
  {
   "cell_type": "code",
   "execution_count": 26,
   "id": "afcf33f4",
   "metadata": {
    "scrolled": true
   },
   "outputs": [
    {
     "data": {
      "text/plain": [
       "Index(['ID', 'Delivery_person_ID', 'Delivery_person_Age',\n",
       "       'Delivery_person_Ratings', 'Restaurant_latitude',\n",
       "       'Restaurant_longitude', 'Delivery_location_latitude',\n",
       "       'Delivery_location_longitude', 'Weather conditions',\n",
       "       'Road_traffic_density', 'Vehicle_condition', 'Type_of_order',\n",
       "       'Type_of_vehicle', 'multiple_deliveries', 'Festival', 'City',\n",
       "       'Time_taken (min)', 'timediff', 'Order_Year', 'Order_Month',\n",
       "       'Order_Day', 'Time_Orderd_hr', 'Time_Orderd_minute',\n",
       "       'Time_Order_picked_hr', 'Time_Order_picked_minute'],\n",
       "      dtype='object')"
      ]
     },
     "execution_count": 26,
     "metadata": {},
     "output_type": "execute_result"
    }
   ],
   "source": [
    "train_data.columns"
   ]
  },
  {
   "cell_type": "code",
   "execution_count": 27,
   "id": "8a233b0a",
   "metadata": {},
   "outputs": [],
   "source": [
    "X = train_data[['Delivery_person_Age',\n",
    "       'Delivery_person_Ratings', 'Restaurant_latitude',\n",
    "       'Restaurant_longitude', 'Delivery_location_latitude',\n",
    "       'Delivery_location_longitude', 'Weather conditions',\n",
    "       'Road_traffic_density', 'Vehicle_condition', 'Type_of_order',\n",
    "       'Type_of_vehicle', 'multiple_deliveries', 'Festival', 'City','Order_Month',\n",
    "       'Order_Day', 'Time_Orderd_hr', 'Time_Orderd_minute',\n",
    "       'Time_Order_picked_hr', 'Time_Order_picked_minute']].values\n",
    "Y = train_data[[\"Time_taken (min)\"]].values"
   ]
  },
  {
   "cell_type": "code",
   "execution_count": 28,
   "id": "7f466eff",
   "metadata": {},
   "outputs": [],
   "source": [
    "from sklearn.model_selection import train_test_split\n",
    "X_train, X_test, y_train, y_test = train_test_split(X, Y, test_size = 0.2, random_state = 1)"
   ]
  },
  {
   "cell_type": "markdown",
   "id": "377d2c45",
   "metadata": {},
   "source": [
    "#### Feature Scaling"
   ]
  },
  {
   "cell_type": "code",
   "execution_count": 29,
   "id": "e98f8241",
   "metadata": {},
   "outputs": [],
   "source": [
    "from sklearn.preprocessing import StandardScaler\n",
    "sc = StandardScaler()\n",
    "X_train = sc.fit_transform(X_train)\n",
    "X_test = sc.transform(X_test)"
   ]
  },
  {
   "cell_type": "code",
   "execution_count": 30,
   "id": "9320c480",
   "metadata": {},
   "outputs": [
    {
     "data": {
      "text/plain": [
       "array([[-0.44842796,  0.81196974,  0.18493398, ...,  1.5304376 ,\n",
       "        -0.95946917, -1.62525006],\n",
       "       [ 1.4818445 , -0.41318623,  0.69428984, ...,  1.22975631,\n",
       "         0.53683199, -1.34062528],\n",
       "       [-1.32582453, -1.6383422 ,  0.05233792, ..., -1.77705661,\n",
       "        -0.95946917, -1.05600051],\n",
       "       ...,\n",
       "       [-1.67678316,  0.50568075,  0.04890657, ..., -1.77705661,\n",
       "         0.1627567 , -1.05600051],\n",
       "       [-0.9748659 , -1.6383422 , -2.08378849, ...,  0.32771244,\n",
       "        -1.33354445,  0.65174812],\n",
       "       [ 0.77992724,  0.19939176,  0.69802831, ...,  0.02703114,\n",
       "        -0.02428095,  0.65174812]])"
      ]
     },
     "execution_count": 30,
     "metadata": {},
     "output_type": "execute_result"
    }
   ],
   "source": [
    "X_train"
   ]
  },
  {
   "cell_type": "markdown",
   "id": "9646bda5",
   "metadata": {},
   "source": [
    "#### Model Selection"
   ]
  },
  {
   "cell_type": "code",
   "execution_count": 31,
   "id": "8a6b5e99",
   "metadata": {},
   "outputs": [
    {
     "name": "stderr",
     "output_type": "stream",
     "text": [
      "C:\\Users\\alish\\AppData\\Local\\Temp\\ipykernel_132\\2449047362.py:11: DataConversionWarning:\n",
      "\n",
      "A column-vector y was passed when a 1d array was expected. Please change the shape of y to (n_samples,), for example using ravel().\n",
      "\n"
     ]
    },
    {
     "data": {
      "text/plain": [
       "RandomForestRegressor(n_estimators=10, random_state=0)"
      ]
     },
     "execution_count": 31,
     "metadata": {},
     "output_type": "execute_result"
    }
   ],
   "source": [
    "# from sklearn.linear_model import LinearRegression\n",
    "# regressor = LinearRegression()\n",
    "# regressor.fit(X_train, y_train)\n",
    "\n",
    "# from sklearn.svm import SVR\n",
    "# regressor = SVR(kernel = 'rbf')\n",
    "# regressor.fit(X_train, y_train)\n",
    "\n",
    "from sklearn.ensemble import RandomForestRegressor\n",
    "regressor = RandomForestRegressor(n_estimators = 10, random_state = 0)\n",
    "regressor.fit(X_train, y_train)"
   ]
  },
  {
   "cell_type": "code",
   "execution_count": 32,
   "id": "a79e99c6",
   "metadata": {},
   "outputs": [],
   "source": [
    "y_pred = regressor.predict(X_test)"
   ]
  },
  {
   "cell_type": "code",
   "execution_count": 33,
   "id": "56011690",
   "metadata": {},
   "outputs": [
    {
     "name": "stdout",
     "output_type": "stream",
     "text": [
      "      Actual  Predicted\n",
      "0       23.0       23.7\n",
      "1       25.0       19.7\n",
      "2       32.0       33.0\n",
      "3       36.0       37.0\n",
      "4       17.0       14.0\n",
      "...      ...        ...\n",
      "9114    30.0       28.3\n",
      "9115    20.0       21.7\n",
      "9116    15.0       23.9\n",
      "9117    24.0       27.1\n",
      "9118    24.0       22.9\n",
      "\n",
      "[9119 rows x 2 columns]\n"
     ]
    }
   ],
   "source": [
    "df_preds = pd.DataFrame({'Actual': y_test.squeeze(), 'Predicted': y_pred.squeeze()})\n",
    "print(df_preds)"
   ]
  },
  {
   "cell_type": "code",
   "execution_count": 34,
   "id": "d2e9ba59",
   "metadata": {},
   "outputs": [
    {
     "name": "stdout",
     "output_type": "stream",
     "text": [
      "Mean absolute error: 3.76\n",
      "Mean squared error: 23.49\n",
      "Root mean squared error: 4.85\n"
     ]
    }
   ],
   "source": [
    "from sklearn.metrics import mean_absolute_error, mean_squared_error\n",
    "\n",
    "mae = mean_absolute_error(y_test, y_pred)\n",
    "mse = mean_squared_error(y_test, y_pred)\n",
    "rmse = np.sqrt(mse)\n",
    "\n",
    "print(f'Mean absolute error: {mae:.2f}')\n",
    "print(f'Mean squared error: {mse:.2f}')\n",
    "print(f'Root mean squared error: {rmse:.2f}')"
   ]
  },
  {
   "cell_type": "code",
   "execution_count": 35,
   "id": "1ddebad8",
   "metadata": {},
   "outputs": [
    {
     "name": "stdout",
     "output_type": "stream",
     "text": [
      "76.50663449939687\n"
     ]
    }
   ],
   "source": [
    "Score = 100-mse\n",
    "print(Score)"
   ]
  },
  {
   "cell_type": "markdown",
   "id": "da92f79b",
   "metadata": {},
   "source": [
    "### Test Data"
   ]
  },
  {
   "cell_type": "code",
   "execution_count": 36,
   "id": "4e666408",
   "metadata": {
    "scrolled": true
   },
   "outputs": [
    {
     "name": "stderr",
     "output_type": "stream",
     "text": [
      "C:\\Users\\alish\\AppData\\Local\\Temp\\ipykernel_132\\1843462781.py:8: SettingWithCopyWarning:\n",
      "\n",
      "\n",
      "A value is trying to be set on a copy of a slice from a DataFrame.\n",
      "Try using .loc[row_indexer,col_indexer] = value instead\n",
      "\n",
      "See the caveats in the documentation: https://pandas.pydata.org/pandas-docs/stable/user_guide/indexing.html#returning-a-view-versus-a-copy\n",
      "\n"
     ]
    }
   ],
   "source": [
    "test_data['City'] = test_data['City'].fillna(test_data['City'].mode()[0])\n",
    "test_data['Weather conditions'] = test_data['Weather conditions'].fillna(test_data['Weather conditions'].mode()[0])\n",
    "\n",
    "test_data=NanValue(test_data,[\"Delivery_person_ID\"],\"Delivery_person_Age\",'mean')\n",
    "test_data=NanValue(test_data,[\"Delivery_person_ID\"],\"Delivery_person_Ratings\",'mean')\n",
    "\n",
    "\n",
    "test_data['Delivery_person_Age'].fillna(value=test_data['Delivery_person_Age'].mean(), inplace=True)\n",
    "test_data['Delivery_person_Ratings'].fillna(value=test_data['Delivery_person_Ratings'].mean(), inplace=True)\n",
    "\n",
    "test_data[\"Order_Date\"] = test_data[\"Order_Date\"].apply(lambda x: datetime.strptime(x,\"%d-%m-%Y\").strftime(\"%Y-%m-%d\"))\n",
    "test_data[\"Order_Date\"]=pd.to_datetime(test_data[\"Order_Date\"], format =\"%Y-%m-%d\",errors =\"coerce\")\n",
    "\n",
    "test_data[\"Time_Order_picked\"] = np.where(test_data[\"Time_Order_picked\"].str.contains(':60'),\n",
    "                                           pd.to_datetime(test_data[\"Time_Order_picked\"].str.replace(':60',':00'), format =\"%H:%M\",errors =\"coerce\")+timedelta(hours=1),\n",
    "                                           np.where(test_data[\"Time_Order_picked\"].str.contains('24:'),\n",
    "                                                    pd.to_datetime(test_data[\"Time_Order_picked\"].str.replace('24:','00:'), format =\"%H:%M\",errors =\"coerce\"),\n",
    "                                                    pd.to_datetime(test_data[\"Time_Order_picked\"], format =\"%H:%M\",errors =\"coerce\")))\n",
    "\n",
    "test_data[\"Time_Orderd\"] = np.where(test_data[\"Time_Orderd\"].str.contains(':60'),\n",
    "                                           pd.to_datetime(test_data[\"Time_Orderd\"].str.replace(':60',':00'), format =\"%H:%M\",errors =\"coerce\")+timedelta(hours=1),\n",
    "                                           np.where(test_data[\"Time_Orderd\"].str.contains('24:'),\n",
    "                                                    pd.to_datetime(test_data[\"Time_Orderd\"].str.replace('24:','00:'), format =\"%H:%M\",errors =\"coerce\"),\n",
    "                                                    pd.to_datetime(test_data[\"Time_Orderd\"], format =\"%H:%M\",errors =\"coerce\")))\n",
    "\n",
    "test_data[\"timediff\"]=test_data[\"Time_Order_picked\"]-test_data[\"Time_Orderd\"]\n",
    "test_data=NanValue(test_data,[\"Road_traffic_density\",\"Weather conditions\",\"City\"],\"timediff\",\"mode\")\n",
    "test_data['timediff'] = test_data['timediff'].fillna(test_data['timediff'].mode()[0])\n",
    "test_data[\"Time_Orderd\"]=test_data[\"Time_Orderd\"].fillna(test_data[\"Time_Order_picked\"]-test_data['timediff'])\n",
    "\n",
    "test_data=NanValue(test_data,[\"Time_Orderd\",\"City\"],\"Road_traffic_density\",\"mode\")\n",
    "test_data['Road_traffic_density'] = test_data['Road_traffic_density'].fillna(test_data['Road_traffic_density'].mode()[0])\n",
    "test_data=NanValue(test_data,[\"Road_traffic_density\",\"City\",\"Order_Date\"],\"Festival\",\"mode\")\n",
    "test_data=NanValue(test_data,[\"Order_Date\",\"Time_Order_picked\"],\"multiple_deliveries\",\"mode\")\n",
    "test_data['multiple_deliveries'] = test_data['multiple_deliveries'].fillna(test_data['multiple_deliveries'].mode()[0])\n",
    "\n",
    "test_data=NanValue(test_data,[\"Delivery_person_ID\"],\"multiple_deliveries\",\"mode\")\n",
    "\n",
    "test_data[\"Order_Year\"]=test_data[\"Order_Date\"].dt.year\n",
    "test_data[\"Order_Month\"]=test_data[\"Order_Date\"].dt.month\n",
    "test_data[\"Order_Day\"]=test_data[\"Order_Date\"].dt.day\n",
    "\n",
    "test_data[\"Time_Orderd_hr\"]=test_data[\"Time_Orderd\"].dt.hour\n",
    "test_data[\"Time_Orderd_minute\"]=test_data[\"Time_Orderd\"].dt.minute\n",
    "\n",
    "test_data[\"Time_Order_picked_hr\"]=test_data[\"Time_Order_picked\"].dt.hour\n",
    "test_data[\"Time_Order_picked_minute\"]=test_data[\"Time_Order_picked\"].dt.minute\n",
    "\n",
    "test_data.drop([\"Order_Date\",\"Time_Orderd\",\"Time_Order_picked\"],axis=1,inplace=True)\n",
    "\n",
    "for i in catergoryData:\n",
    "    test_data = categoricalDataEndcoding(test_data,train_data_base,i)\n",
    "\n",
    "\n",
    "X_Testt = test_data[['Delivery_person_Age',\n",
    "       'Delivery_person_Ratings', 'Restaurant_latitude',\n",
    "       'Restaurant_longitude', 'Delivery_location_latitude',\n",
    "       'Delivery_location_longitude', 'Weather conditions',\n",
    "       'Road_traffic_density', 'Vehicle_condition', 'Type_of_order',\n",
    "       'Type_of_vehicle', 'multiple_deliveries', 'Festival', 'City','Order_Month',\n",
    "       'Order_Day', 'Time_Orderd_hr', 'Time_Orderd_minute',\n",
    "       'Time_Order_picked_hr', 'Time_Order_picked_minute']].values"
   ]
  },
  {
   "cell_type": "code",
   "execution_count": 37,
   "id": "7d20e3a5",
   "metadata": {
    "scrolled": true
   },
   "outputs": [],
   "source": [
    "y_Testt = regressor.predict(X_Testt)"
   ]
  },
  {
   "cell_type": "code",
   "execution_count": 39,
   "id": "c48370f0",
   "metadata": {},
   "outputs": [],
   "source": [
    "df_submission = pd.DataFrame(y_Testt, columns = ['Time_taken (min)'])"
   ]
  },
  {
   "cell_type": "code",
   "execution_count": 43,
   "id": "95b81926",
   "metadata": {},
   "outputs": [],
   "source": [
    "df_final_submission=pd.concat([test_data[[\"ID\"]], df_submission], axis=1, join='inner')"
   ]
  },
  {
   "cell_type": "code",
   "execution_count": 46,
   "id": "913916dc",
   "metadata": {},
   "outputs": [],
   "source": [
    "df_final_submission.to_csv(\"Final_sample_submission.csv\",index=False)"
   ]
  },
  {
   "cell_type": "code",
   "execution_count": null,
   "id": "5acd8521",
   "metadata": {},
   "outputs": [],
   "source": []
  }
 ],
 "metadata": {
  "kernelspec": {
   "display_name": "Python 3 (ipykernel)",
   "language": "python",
   "name": "python3"
  },
  "language_info": {
   "codemirror_mode": {
    "name": "ipython",
    "version": 3
   },
   "file_extension": ".py",
   "mimetype": "text/x-python",
   "name": "python",
   "nbconvert_exporter": "python",
   "pygments_lexer": "ipython3",
   "version": "3.8.8"
  }
 },
 "nbformat": 4,
 "nbformat_minor": 5
}
